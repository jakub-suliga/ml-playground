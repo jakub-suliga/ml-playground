{
 "cells": [
  {
   "cell_type": "markdown",
   "id": "a01358ea",
   "metadata": {},
   "source": [
    "# Kaggle Backpack Prediction Challenge\n",
    "\n",
    "https://www.kaggle.com/competitions/playground-series-s5e2"
   ]
  },
  {
   "cell_type": "code",
   "execution_count": null,
   "id": "a78606be",
   "metadata": {},
   "outputs": [],
   "source": []
  }
 ],
 "metadata": {
  "language_info": {
   "name": "python"
  }
 },
 "nbformat": 4,
 "nbformat_minor": 5
}
