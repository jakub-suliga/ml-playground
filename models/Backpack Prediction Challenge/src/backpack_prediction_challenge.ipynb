{
 "cells": [
  {
   "cell_type": "markdown",
   "id": "a01358ea",
   "metadata": {},
   "source": [
    "# Kaggle Backpack Prediction Challenge\n",
    "\n",
    "https://www.kaggle.com/competitions/playground-series-s5e2"
   ]
  },
  {
   "cell_type": "code",
   "execution_count": 1,
   "id": "a78606be",
   "metadata": {},
   "outputs": [],
   "source": [
    "import torch\n",
    "from sklearn.linear_model import LinearRegression\n",
    "from sklearn.model_selection import train_test_split\n",
    "import pandas as pd\n",
    "import os "
   ]
  },
  {
   "cell_type": "code",
   "execution_count": null,
   "id": "3845ae6c",
   "metadata": {},
   "outputs": [
    {
     "name": "stdout",
     "output_type": "stream",
     "text": [
      "Training on device: cpu\n"
     ]
    }
   ],
   "source": [
    "device = torch.device(\"cuda\" if torch.cuda.is_available() else \"cpu\")\n",
    "print(f\"Training on device: {device}\")\n",
    "\n",
    "script_dir = os.path.dirname(os.path.abspath(__file__))\n",
    "file_path = os.path.join(script_dir, \"dataset\", \"train.csv\")"
   ]
  },
  {
   "cell_type": "code",
   "execution_count": null,
   "id": "0923dee9",
   "metadata": {},
   "outputs": [],
   "source": [
    "print(\n",
    "    f\"Attempting to load dataset from: {file_path}\"\n",
    ") \n",
    "df = pd.read_csv(file_path)\n",
    "\n",
    "X = df.drop([\"id\", \"Price\"], axis=1)\n",
    "y = df[\"Price\"]\n",
    "X_train, X_test, y_train, y_test = train_test_split(\n",
    "    X, y, test_size=0.2, random_state=42, shuffle=True\n",
    ")\n",
    "model = LinearRegression()\n",
    "model.fit(X_train, y_train)"
   ]
  }
 ],
 "metadata": {
  "kernelspec": {
   "display_name": "Python 3",
   "language": "python",
   "name": "python3"
  },
  "language_info": {
   "codemirror_mode": {
    "name": "ipython",
    "version": 3
   },
   "file_extension": ".py",
   "mimetype": "text/x-python",
   "name": "python",
   "nbconvert_exporter": "python",
   "pygments_lexer": "ipython3",
   "version": "3.13.1"
  }
 },
 "nbformat": 4,
 "nbformat_minor": 5
}
