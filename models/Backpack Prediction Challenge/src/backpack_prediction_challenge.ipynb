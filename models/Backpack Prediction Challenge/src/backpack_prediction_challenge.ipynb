{
 "cells": [
  {
   "cell_type": "markdown",
   "id": "a01358ea",
   "metadata": {},
   "source": [
    "# Kaggle Backpack Prediction Challenge\n",
    "\n",
    "https://www.kaggle.com/competitions/playground-series-s5e2"
   ]
  },
  {
   "cell_type": "code",
   "execution_count": 14,
   "id": "a78606be",
   "metadata": {},
   "outputs": [],
   "source": [
    "from sklearn.preprocessing import OneHotEncoder\n",
    "from sklearn.linear_model import LinearRegression\n",
    "from sklearn.pipeline    import Pipeline\n",
    "from sklearn.model_selection import train_test_split\n",
    "import numpy as np\n",
    "import matplotlib.pyplot as plt\n",
    "import seaborn as sns\n",
    "import torch\n",
    "from torch.utils.data import TensorDataset, DataLoader\n",
    "import pandas as pd\n",
    "import os "
   ]
  },
  {
   "cell_type": "code",
   "execution_count": 25,
   "id": "3845ae6c",
   "metadata": {},
   "outputs": [
    {
     "name": "stdout",
     "output_type": "stream",
     "text": [
      "Training on device: cpu\n",
      "Attempting to load dataset from: dataset\\train.csv\n",
      "<class 'pandas.core.frame.DataFrame'>\n",
      "Index: 246686 entries, 0 to 299999\n",
      "Data columns (total 28 columns):\n",
      " #   Column                  Non-Null Count   Dtype  \n",
      "---  ------                  --------------   -----  \n",
      " 0   Compartments            246686 non-null  float64\n",
      " 1   Weight Capacity (kg)    246686 non-null  float64\n",
      " 2   Price                   246686 non-null  float64\n",
      " 3   Brand_Adidas            246686 non-null  bool   \n",
      " 4   Brand_Jansport          246686 non-null  bool   \n",
      " 5   Brand_Nike              246686 non-null  bool   \n",
      " 6   Brand_Puma              246686 non-null  bool   \n",
      " 7   Brand_Under Armour      246686 non-null  bool   \n",
      " 8   Material_Canvas         246686 non-null  bool   \n",
      " 9   Material_Leather        246686 non-null  bool   \n",
      " 10  Material_Nylon          246686 non-null  bool   \n",
      " 11  Material_Polyester      246686 non-null  bool   \n",
      " 12  Size_Large              246686 non-null  bool   \n",
      " 13  Size_Medium             246686 non-null  bool   \n",
      " 14  Size_Small              246686 non-null  bool   \n",
      " 15  Laptop Compartment_No   246686 non-null  bool   \n",
      " 16  Laptop Compartment_Yes  246686 non-null  bool   \n",
      " 17  Waterproof_No           246686 non-null  bool   \n",
      " 18  Waterproof_Yes          246686 non-null  bool   \n",
      " 19  Style_Backpack          246686 non-null  bool   \n",
      " 20  Style_Messenger         246686 non-null  bool   \n",
      " 21  Style_Tote              246686 non-null  bool   \n",
      " 22  Color_Black             246686 non-null  bool   \n",
      " 23  Color_Blue              246686 non-null  bool   \n",
      " 24  Color_Gray              246686 non-null  bool   \n",
      " 25  Color_Green             246686 non-null  bool   \n",
      " 26  Color_Pink              246686 non-null  bool   \n",
      " 27  Color_Red               246686 non-null  bool   \n",
      "dtypes: bool(25), float64(3)\n",
      "memory usage: 13.4 MB\n"
     ]
    }
   ],
   "source": [
    "device = torch.device(\"cuda\" if torch.cuda.is_available() else \"cpu\")\n",
    "print(f\"Training on device: {device}\")\n",
    "\n",
    "file_path = os.path.join(\"dataset\", \"train.csv\") # Use relative path directly\n",
    "print(\n",
    "    f\"Attempting to load dataset from: {file_path}\"\n",
    ")\n",
    "df = pd.read_csv(file_path)\n",
    "df = df.dropna().drop_duplicates().drop(\"id\", axis=1)\n",
    "categorical_cols = df.select_dtypes(include=['object']).columns\n",
    "df = pd.get_dummies(df, columns=categorical_cols)\n",
    "df.info()"
   ]
  },
  {
   "cell_type": "code",
   "execution_count": 26,
   "id": "0923dee9",
   "metadata": {},
   "outputs": [],
   "source": [
    "X = df.drop(\"Price\", axis=1)\n",
    "y = df[\"Price\"]\n",
    "X_train, X_test, y_train, y_test = train_test_split(\n",
    "    X, y, test_size=0.2, random_state=42, shuffle=True\n",
    ")\n",
    "pipeline = torch.nn.Sequential(\n",
    "    torch.nn.Linear(X_train.shape[1], 64),\n",
    "    torch.nn.ReLU(),\n",
    "    torch.nn.Linear(64, 32),\n",
    "    torch.nn.ReLU(),\n",
    "    torch.nn.Linear(32, 1)\n",
    ").to(device)\n"
   ]
  },
  {
   "cell_type": "code",
   "execution_count": null,
   "id": "06635562",
   "metadata": {},
   "outputs": [
    {
     "name": "stdout",
     "output_type": "stream",
     "text": [
      "Epoch  1/50 — Loss: 1596.4153\n"
     ]
    }
   ],
   "source": [
    "X_train_arr = X_train.to_numpy(dtype=np.float32)\n",
    "y_train_arr = y_train.to_numpy(dtype=np.float32).reshape(-1, 1)\n",
    "\n",
    "# Torch‑Tensoren erzeugen und aufs Device schieben\n",
    "X_train_tensor = torch.from_numpy(X_train_arr).to(device)\n",
    "y_train_tensor = torch.from_numpy(y_train_arr).to(device)\n",
    "\n",
    "# 2. Dataset und DataLoader erstellen\n",
    "train_ds = TensorDataset(X_train_tensor, y_train_tensor)\n",
    "train_loader = DataLoader(train_ds, batch_size=32, shuffle=True)\n",
    "\n",
    "# 3. Loss-Funktion und Optimizer definieren\n",
    "criterion = torch.nn.MSELoss()            # z. B. für Regression\n",
    "optimizer = torch.optim.Adam(pipeline.parameters(), lr=1e-3)\n",
    "\n",
    "# 4. Trainingsschleife\n",
    "n_epochs = 50\n",
    "for epoch in range(1, n_epochs + 1):\n",
    "    pipeline.train()\n",
    "    epoch_loss = 0.0\n",
    "\n",
    "    for X_batch, y_batch in train_loader:\n",
    "        # 4.1 Gradienten zurücksetzen\n",
    "        optimizer.zero_grad()\n",
    "        # 4.2 Forward-Pass\n",
    "        y_pred = pipeline(X_batch)\n",
    "        # 4.3 Loss berechnen\n",
    "        loss = criterion(y_pred, y_batch)\n",
    "        # 4.4 Backward-Pass\n",
    "        loss.backward()\n",
    "        # 4.5 Gewichte updaten\n",
    "        optimizer.step()\n",
    "\n",
    "        epoch_loss += loss.item() * X_batch.size(0)\n",
    "\n",
    "    epoch_loss /= len(train_loader.dataset)\n",
    "    if epoch % 5 == 0 or epoch == 1:\n",
    "        print(f\"Epoch {epoch:2d}/{n_epochs} — Loss: {epoch_loss:.4f}\")\n",
    "\n",
    "# 5. Modell speichern (optional)\n",
    "torch.save(pipeline.state_dict(), \"model.pth\")"
   ]
  }
 ],
 "metadata": {
  "kernelspec": {
   "display_name": "Python 3",
   "language": "python",
   "name": "python3"
  },
  "language_info": {
   "codemirror_mode": {
    "name": "ipython",
    "version": 3
   },
   "file_extension": ".py",
   "mimetype": "text/x-python",
   "name": "python",
   "nbconvert_exporter": "python",
   "pygments_lexer": "ipython3",
   "version": "3.13.1"
  }
 },
 "nbformat": 4,
 "nbformat_minor": 5
}
